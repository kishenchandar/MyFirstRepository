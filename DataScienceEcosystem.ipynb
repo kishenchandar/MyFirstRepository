{
 "cells": [
  {
   "cell_type": "markdown",
   "id": "1542a4f8",
   "metadata": {},
   "source": [
    "# Data Science Tools and Ecosystem"
   ]
  },
  {
   "cell_type": "markdown",
   "id": "365806d1",
   "metadata": {},
   "source": [
    "In this notebook, Data Science Tools and Ecosystem are summarized."
   ]
  },
  {
   "cell_type": "markdown",
   "id": "b4e6494a",
   "metadata": {},
   "source": [
    "**Objectives**\n",
    "- List of open source tools, commercial tools and cloud based tools available for data scientists\n",
    "- List of commonly used languages for Data Science like Python, R, Julia etc.\n",
    "- List of frequently used libraries for Data Science\n",
    "- Basics of Python and R and understanding Jupyter environment throught handson exercises\n",
    "- Explored Datasets on DAX, reviewed MAX."
   ]
  },
  {
   "cell_type": "markdown",
   "id": "686f64e4",
   "metadata": {},
   "source": [
    "Some of the popular languages that Data Scientists use are: \n",
    "1. Python\n",
    "2. R\n",
    "3. Julia\n",
    "4. Java\n",
    "5. Scala\n",
    "6. Javascript"
   ]
  },
  {
   "cell_type": "markdown",
   "id": "1fd05236",
   "metadata": {},
   "source": [
    "Some of the commonly used libraries used by Data Scientists include:\n",
    "1. SciPy\n",
    "2. NumPy\n",
    "3. Matplotlib\n",
    "4. Pandas\n",
    "5. Keras"
   ]
  },
  {
   "cell_type": "markdown",
   "id": "0b9702e0",
   "metadata": {},
   "source": [
    "| Data Science Tools |\n",
    "|------------------|\n",
    "| Jupyter Notebook |\n",
    "| Apache Zeppelin |\n",
    "| R Studio |\n",
    "| Spyder |"
   ]
  },
  {
   "cell_type": "markdown",
   "id": "a6541020",
   "metadata": {},
   "source": [
    "### Below are a few examples of evaluating arithmetic expressions in Python\n"
   ]
  },
  {
   "cell_type": "code",
   "execution_count": 1,
   "id": "72762a0c",
   "metadata": {},
   "outputs": [
    {
     "data": {
      "text/plain": [
       "17"
      ]
     },
     "execution_count": 1,
     "metadata": {},
     "output_type": "execute_result"
    }
   ],
   "source": [
    "# This a simple arithmetic expression to mutiply then add integers\n",
    "(3*4)+5"
   ]
  },
  {
   "cell_type": "code",
   "execution_count": 2,
   "id": "69ec3902",
   "metadata": {},
   "outputs": [
    {
     "data": {
      "text/plain": [
       "3.3333333333333335"
      ]
     },
     "execution_count": 2,
     "metadata": {},
     "output_type": "execute_result"
    }
   ],
   "source": [
    "# This will convert 200 minutes to hours by diving by 60\n",
    "200/60 "
   ]
  },
  {
   "cell_type": "markdown",
   "id": "54cdfa30",
   "metadata": {},
   "source": [
    "## Author\n",
    "Kishen Chandar M"
   ]
  },
  {
   "cell_type": "code",
   "execution_count": null,
   "id": "328646b9",
   "metadata": {},
   "outputs": [],
   "source": []
  }
 ],
 "metadata": {
  "kernelspec": {
   "display_name": "Python 3 (ipykernel)",
   "language": "python",
   "name": "python3"
  },
  "language_info": {
   "codemirror_mode": {
    "name": "ipython",
    "version": 3
   },
   "file_extension": ".py",
   "mimetype": "text/x-python",
   "name": "python",
   "nbconvert_exporter": "python",
   "pygments_lexer": "ipython3",
   "version": "3.8.2"
  }
 },
 "nbformat": 4,
 "nbformat_minor": 5
}
